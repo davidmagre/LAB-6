{
 "cells": [
  {
   "cell_type": "code",
   "execution_count": 3,
   "metadata": {},
   "outputs": [],
   "source": [
    "#1. Import the NUMPY package under the name np.\n",
    "\n",
    "import numpy as np"
   ]
  },
  {
   "cell_type": "code",
   "execution_count": 4,
   "metadata": {},
   "outputs": [
    {
     "name": "stdout",
     "output_type": "stream",
     "text": [
      "NumPy Version: 1.26.3\n",
      "NumPy Configuration:\n",
      "{\n",
      "  \"Compilers\": {\n",
      "    \"c\": {\n",
      "      \"name\": \"msvc\",\n",
      "      \"linker\": \"link\",\n",
      "      \"version\": \"19.29.30153\",\n",
      "      \"commands\": \"cl\"\n",
      "    },\n",
      "    \"cython\": {\n",
      "      \"name\": \"cython\",\n",
      "      \"linker\": \"cython\",\n",
      "      \"version\": \"3.0.7\",\n",
      "      \"commands\": \"cython\"\n",
      "    },\n",
      "    \"c++\": {\n",
      "      \"name\": \"msvc\",\n",
      "      \"linker\": \"link\",\n",
      "      \"version\": \"19.29.30153\",\n",
      "      \"commands\": \"cl\"\n",
      "    }\n",
      "  },\n",
      "  \"Machine Information\": {\n",
      "    \"host\": {\n",
      "      \"cpu\": \"x86_64\",\n",
      "      \"family\": \"x86_64\",\n",
      "      \"endian\": \"little\",\n",
      "      \"system\": \"windows\"\n",
      "    },\n",
      "    \"build\": {\n",
      "      \"cpu\": \"x86_64\",\n",
      "      \"family\": \"x86_64\",\n",
      "      \"endian\": \"little\",\n",
      "      \"system\": \"windows\"\n",
      "    }\n",
      "  },\n",
      "  \"Build Dependencies\": {\n",
      "    \"blas\": {\n",
      "      \"name\": \"openblas64\",\n",
      "      \"found\": true,\n",
      "      \"version\": \"0.3.23.dev\",\n",
      "      \"detection method\": \"pkgconfig\",\n",
      "      \"include directory\": \"/c/opt/64/include\",\n",
      "      \"lib directory\": \"/c/opt/64/lib\",\n",
      "      \"openblas configuration\": \"USE_64BITINT=1 DYNAMIC_ARCH=1 DYNAMIC_OLDER= NO_CBLAS= NO_LAPACK= NO_LAPACKE= NO_AFFINITY=1 USE_OPENMP= SKYLAKEX MAX_THREADS=2\",\n",
      "      \"pc file directory\": \"C:/opt/64/lib/pkgconfig\"\n",
      "    },\n",
      "    \"lapack\": {\n",
      "      \"name\": \"dep2628220032720\",\n",
      "      \"found\": true,\n",
      "      \"version\": \"1.26.3\",\n",
      "      \"detection method\": \"internal\",\n",
      "      \"include directory\": \"unknown\",\n",
      "      \"lib directory\": \"unknown\",\n",
      "      \"openblas configuration\": \"unknown\",\n",
      "      \"pc file directory\": \"unknown\"\n",
      "    }\n",
      "  },\n",
      "  \"Python Information\": {\n",
      "    \"path\": \"C:\\\\Users\\\\runneradmin\\\\AppData\\\\Local\\\\Temp\\\\cibw-run-frm2g0yv\\\\cp311-win_amd64\\\\build\\\\venv\\\\Scripts\\\\python.exe\",\n",
      "    \"version\": \"3.11\"\n",
      "  },\n",
      "  \"SIMD Extensions\": {\n",
      "    \"baseline\": [\n",
      "      \"SSE\",\n",
      "      \"SSE2\",\n",
      "      \"SSE3\"\n",
      "    ],\n",
      "    \"found\": [\n",
      "      \"SSSE3\",\n",
      "      \"SSE41\",\n",
      "      \"POPCNT\",\n",
      "      \"SSE42\",\n",
      "      \"AVX\",\n",
      "      \"F16C\",\n",
      "      \"FMA3\",\n",
      "      \"AVX2\",\n",
      "      \"AVX512F\",\n",
      "      \"AVX512CD\",\n",
      "      \"AVX512_SKX\",\n",
      "      \"AVX512_CLX\",\n",
      "      \"AVX512_CNL\",\n",
      "      \"AVX512_ICL\"\n",
      "    ]\n",
      "  }\n",
      "}\n",
      "None\n"
     ]
    },
    {
     "name": "stderr",
     "output_type": "stream",
     "text": [
      "c:\\Users\\Usuario_1\\anaconda3\\envs\\Ironhack\\Lib\\site-packages\\numpy\\__config__.py:149: UserWarning: Install `pyyaml` for better output\n",
      "  warnings.warn(\"Install `pyyaml` for better output\", stacklevel=1)\n"
     ]
    }
   ],
   "source": [
    "#2. Print the NUMPY version and the configuration.\n",
    "\n",
    "# Imprimir la versión de NumPy\n",
    "print(\"NumPy Version:\", np.__version__)\n",
    "\n",
    "# Imprimir la configuración de NumPy\n",
    "print(\"NumPy Configuration:\")\n",
    "print(np.show_config())"
   ]
  },
  {
   "cell_type": "code",
   "execution_count": 43,
   "metadata": {},
   "outputs": [],
   "source": [
    "#3. Generate a 2x3x5 3-dimensional array with random values. Assign the array to variable \"a\"\n",
    "# Challenge: there are at least three easy ways that use numpy to generate random arrays. How many ways can you find?\n",
    "\n",
    "a = np.random.randint(low=1, high=10, size=(2, 3, 5))"
   ]
  },
  {
   "cell_type": "code",
   "execution_count": 44,
   "metadata": {},
   "outputs": [],
   "source": [
    "def numpy_info(arr):\n",
    "    print(\"\\nThe dimension is:\", arr.ndim)\n",
    "    print(\"The shape is:\", arr.shape)\n",
    "    print(\"The size is:\", arr.size)"
   ]
  },
  {
   "cell_type": "code",
   "execution_count": 45,
   "metadata": {},
   "outputs": [
    {
     "name": "stdout",
     "output_type": "stream",
     "text": [
      "\n",
      "Array Information:\n",
      "\n",
      "The dimension is: 3\n",
      "The shape is: (2, 3, 5)\n",
      "The size is: 30\n"
     ]
    }
   ],
   "source": [
    "print(\"\\nArray Information:\")\n",
    "numpy_info(a)"
   ]
  },
  {
   "cell_type": "code",
   "execution_count": 46,
   "metadata": {},
   "outputs": [
    {
     "name": "stdout",
     "output_type": "stream",
     "text": [
      "[[[5 1 8 5 3]\n",
      "  [4 3 4 2 8]\n",
      "  [8 6 2 6 6]]\n",
      "\n",
      " [[4 7 7 1 3]\n",
      "  [6 9 4 8 8]\n",
      "  [2 7 6 4 5]]]\n"
     ]
    }
   ],
   "source": [
    "#4. Print a.\n",
    "print(a)"
   ]
  },
  {
   "cell_type": "code",
   "execution_count": 53,
   "metadata": {},
   "outputs": [],
   "source": [
    "aa = np.random.random(size=(2, 3, 5))"
   ]
  },
  {
   "cell_type": "code",
   "execution_count": 54,
   "metadata": {},
   "outputs": [
    {
     "name": "stdout",
     "output_type": "stream",
     "text": [
      "[[[0.26685016 0.27879111 0.18245207 0.07562868 0.04527398]\n",
      "  [0.59364765 0.86610526 0.23268953 0.5132233  0.16390551]\n",
      "  [0.78441446 0.20985756 0.4102484  0.49734253 0.73500104]]\n",
      "\n",
      " [[0.16743755 0.50543458 0.93032429 0.04614245 0.49137586]\n",
      "  [0.96694257 0.72903096 0.03620487 0.37557982 0.30489319]\n",
      "  [0.28857258 0.42230684 0.95522891 0.58503084 0.39193551]]]\n"
     ]
    }
   ],
   "source": [
    "print(aa)"
   ]
  },
  {
   "cell_type": "code",
   "execution_count": 55,
   "metadata": {},
   "outputs": [],
   "source": [
    "aaa = np.random.randn(2, 3, 5)"
   ]
  },
  {
   "cell_type": "code",
   "execution_count": 56,
   "metadata": {},
   "outputs": [
    {
     "name": "stdout",
     "output_type": "stream",
     "text": [
      "[[[-0.07946357 -1.38272212  1.78178655 -1.87296433 -0.65562714]\n",
      "  [-0.16696185 -0.50069281 -0.64924217 -0.84274811 -1.08537403]\n",
      "  [-0.21352912  0.14383979 -0.25903596  1.65094361  0.37115868]]\n",
      "\n",
      " [[ 0.23956207 -0.0564549  -1.29645025  1.30171414  0.27548513]\n",
      "  [ 0.49938218 -0.37224278  1.31500431 -1.95523224  0.23942541]\n",
      "  [ 3.52871635  0.53975923 -0.96594693  1.2340972  -0.01596865]]]\n"
     ]
    }
   ],
   "source": [
    "print(aaa)"
   ]
  },
  {
   "cell_type": "code",
   "execution_count": 62,
   "metadata": {},
   "outputs": [],
   "source": [
    "#5. Create a 5x2x3 3-dimensional array with all values equaling 1.\n",
    "#Assign the array to variable \"b\"\n",
    "\n",
    "b= np.ones((5, 2, 3))"
   ]
  },
  {
   "cell_type": "code",
   "execution_count": 65,
   "metadata": {},
   "outputs": [
    {
     "name": "stdout",
     "output_type": "stream",
     "text": [
      "[[[1. 1. 1.]\n",
      "  [1. 1. 1.]]\n",
      "\n",
      " [[1. 1. 1.]\n",
      "  [1. 1. 1.]]\n",
      "\n",
      " [[1. 1. 1.]\n",
      "  [1. 1. 1.]]\n",
      "\n",
      " [[1. 1. 1.]\n",
      "  [1. 1. 1.]]\n",
      "\n",
      " [[1. 1. 1.]\n",
      "  [1. 1. 1.]]]\n"
     ]
    }
   ],
   "source": [
    "#6. Print b.\n",
    "print(b)"
   ]
  },
  {
   "cell_type": "code",
   "execution_count": 66,
   "metadata": {},
   "outputs": [
    {
     "name": "stdout",
     "output_type": "stream",
     "text": [
      "[[[0.03333333 0.03333333 0.03333333]\n",
      "  [0.03333333 0.03333333 0.03333333]]\n",
      "\n",
      " [[0.03333333 0.03333333 0.03333333]\n",
      "  [0.03333333 0.03333333 0.03333333]]\n",
      "\n",
      " [[0.03333333 0.03333333 0.03333333]\n",
      "  [0.03333333 0.03333333 0.03333333]]\n",
      "\n",
      " [[0.03333333 0.03333333 0.03333333]\n",
      "  [0.03333333 0.03333333 0.03333333]]\n",
      "\n",
      " [[0.03333333 0.03333333 0.03333333]\n",
      "  [0.03333333 0.03333333 0.03333333]]]\n"
     ]
    }
   ],
   "source": [
    "# No entendí si pide que los valores sean todos unos o que la suma de ellos sea 1. He hecho todas las posiblidades.\n",
    "\n",
    "shape = (5, 2, 3)\n",
    "\n",
    "total_elements = np.prod(shape)\n",
    "\n",
    "bb = np.ones(shape) / total_elements\n",
    "\n",
    "print(bb)"
   ]
  },
  {
   "cell_type": "code",
   "execution_count": 67,
   "metadata": {},
   "outputs": [
    {
     "name": "stdout",
     "output_type": "stream",
     "text": [
      "\n",
      "Array Information:\n",
      "\n",
      "The dimension is: 3\n",
      "The shape is: (2, 3, 5)\n",
      "The size is: 30\n"
     ]
    }
   ],
   "source": [
    "#7. Do a and b have the same size? How do you prove that in Python code?\n",
    "\n",
    "print(\"\\nArray Information:\")\n",
    "numpy_info(a)"
   ]
  },
  {
   "cell_type": "code",
   "execution_count": 68,
   "metadata": {},
   "outputs": [
    {
     "name": "stdout",
     "output_type": "stream",
     "text": [
      "\n",
      "Array Information:\n",
      "\n",
      "The dimension is: 3\n",
      "The shape is: (5, 2, 3)\n",
      "The size is: 30\n"
     ]
    }
   ],
   "source": [
    "print(\"\\nArray Information:\")\n",
    "numpy_info(b)"
   ]
  },
  {
   "cell_type": "code",
   "execution_count": 69,
   "metadata": {},
   "outputs": [
    {
     "data": {
      "text/plain": [
       "True"
      ]
     },
     "execution_count": 69,
     "metadata": {},
     "output_type": "execute_result"
    }
   ],
   "source": [
    "a.size == b.size"
   ]
  },
  {
   "cell_type": "code",
   "execution_count": 70,
   "metadata": {},
   "outputs": [
    {
     "ename": "ValueError",
     "evalue": "operands could not be broadcast together with shapes (2,3,5) (5,2,3) ",
     "output_type": "error",
     "traceback": [
      "\u001b[1;31m---------------------------------------------------------------------------\u001b[0m",
      "\u001b[1;31mValueError\u001b[0m                                Traceback (most recent call last)",
      "Cell \u001b[1;32mIn[70], line 3\u001b[0m\n\u001b[0;32m      1\u001b[0m \u001b[38;5;66;03m#8. Are you able to add a and b? Why or why not?\u001b[39;00m\n\u001b[1;32m----> 3\u001b[0m \u001b[38;5;28msum\u001b[39m(\u001b[43ma\u001b[49m\u001b[43m \u001b[49m\u001b[38;5;241;43m+\u001b[39;49m\u001b[43m \u001b[49m\u001b[43mb\u001b[49m)\n",
      "\u001b[1;31mValueError\u001b[0m: operands could not be broadcast together with shapes (2,3,5) (5,2,3) "
     ]
    }
   ],
   "source": [
    "#8. Are you able to add a and b? Why or why not?\n",
    "\n",
    "sum(a + b)"
   ]
  },
  {
   "cell_type": "code",
   "execution_count": 71,
   "metadata": {},
   "outputs": [],
   "source": [
    "# No puedes porque dos arrays no se pueden sumar entre ellos si no tienen la misma forma (shape)."
   ]
  },
  {
   "cell_type": "code",
   "execution_count": 72,
   "metadata": {},
   "outputs": [],
   "source": [
    "#9. Transpose b so that it has the same structure of a (i.e. become a 2x3x5 array). Assign the transposed array to varialbe \"c\".\n",
    "\n",
    "c = b.T"
   ]
  },
  {
   "cell_type": "code",
   "execution_count": 73,
   "metadata": {},
   "outputs": [
    {
     "name": "stdout",
     "output_type": "stream",
     "text": [
      "[[[1. 1. 1. 1. 1.]\n",
      "  [1. 1. 1. 1. 1.]]\n",
      "\n",
      " [[1. 1. 1. 1. 1.]\n",
      "  [1. 1. 1. 1. 1.]]\n",
      "\n",
      " [[1. 1. 1. 1. 1.]\n",
      "  [1. 1. 1. 1. 1.]]]\n"
     ]
    }
   ],
   "source": [
    "print(c)"
   ]
  },
  {
   "cell_type": "code",
   "execution_count": 74,
   "metadata": {},
   "outputs": [
    {
     "name": "stdout",
     "output_type": "stream",
     "text": [
      "\n",
      "The dimension is: 3\n",
      "The shape is: (3, 2, 5)\n",
      "The size is: 30\n"
     ]
    }
   ],
   "source": [
    "numpy_info(c)"
   ]
  },
  {
   "cell_type": "code",
   "execution_count": 75,
   "metadata": {},
   "outputs": [],
   "source": [
    "c = np.transpose(b, (1,2,0))"
   ]
  },
  {
   "cell_type": "code",
   "execution_count": 87,
   "metadata": {},
   "outputs": [
    {
     "data": {
      "text/plain": [
       "array([[[1., 1., 1., 1., 1.],\n",
       "        [1., 1., 1., 1., 1.],\n",
       "        [1., 1., 1., 1., 1.]],\n",
       "\n",
       "       [[1., 1., 1., 1., 1.],\n",
       "        [1., 1., 1., 1., 1.],\n",
       "        [1., 1., 1., 1., 1.]]])"
      ]
     },
     "execution_count": 87,
     "metadata": {},
     "output_type": "execute_result"
    }
   ],
   "source": [
    "c"
   ]
  },
  {
   "cell_type": "code",
   "execution_count": 77,
   "metadata": {},
   "outputs": [
    {
     "name": "stdout",
     "output_type": "stream",
     "text": [
      "\n",
      "The dimension is: 3\n",
      "The shape is: (2, 3, 5)\n",
      "The size is: 30\n"
     ]
    }
   ],
   "source": [
    "numpy_info(c)"
   ]
  },
  {
   "cell_type": "code",
   "execution_count": 78,
   "metadata": {},
   "outputs": [
    {
     "data": {
      "text/plain": [
       "array([[11., 10., 17.,  8.,  8.],\n",
       "       [12., 14., 10., 12., 18.],\n",
       "       [12., 15., 10., 12., 13.]])"
      ]
     },
     "execution_count": 78,
     "metadata": {},
     "output_type": "execute_result"
    }
   ],
   "source": [
    "sum(a+c)"
   ]
  },
  {
   "cell_type": "code",
   "execution_count": 79,
   "metadata": {},
   "outputs": [],
   "source": [
    "#10. Try to add a and c. Now it should work. Assign the sum to varialbe \"d\". But why does it work now?\n",
    "\n",
    "d = sum(a+c)"
   ]
  },
  {
   "cell_type": "code",
   "execution_count": 80,
   "metadata": {},
   "outputs": [
    {
     "data": {
      "text/plain": [
       "array([[11., 10., 17.,  8.,  8.],\n",
       "       [12., 14., 10., 12., 18.],\n",
       "       [12., 15., 10., 12., 13.]])"
      ]
     },
     "execution_count": 80,
     "metadata": {},
     "output_type": "execute_result"
    }
   ],
   "source": [
    "d\n",
    "\n",
    "# Porque ahora tienen la misma shape."
   ]
  },
  {
   "cell_type": "code",
   "execution_count": 81,
   "metadata": {},
   "outputs": [
    {
     "data": {
      "text/plain": [
       "array([[[5, 1, 8, 5, 3],\n",
       "        [4, 3, 4, 2, 8],\n",
       "        [8, 6, 2, 6, 6]],\n",
       "\n",
       "       [[4, 7, 7, 1, 3],\n",
       "        [6, 9, 4, 8, 8],\n",
       "        [2, 7, 6, 4, 5]]])"
      ]
     },
     "execution_count": 81,
     "metadata": {},
     "output_type": "execute_result"
    }
   ],
   "source": [
    "#11. Print a and d. Notice the difference and relation of the two array in terms of the values? Explain.\n",
    "\n",
    "a"
   ]
  },
  {
   "cell_type": "code",
   "execution_count": 82,
   "metadata": {},
   "outputs": [
    {
     "data": {
      "text/plain": [
       "array([[11., 10., 17.,  8.,  8.],\n",
       "       [12., 14., 10., 12., 18.],\n",
       "       [12., 15., 10., 12., 13.]])"
      ]
     },
     "execution_count": 82,
     "metadata": {},
     "output_type": "execute_result"
    }
   ],
   "source": [
    "d"
   ]
  },
  {
   "cell_type": "code",
   "execution_count": 83,
   "metadata": {},
   "outputs": [
    {
     "name": "stdout",
     "output_type": "stream",
     "text": [
      "\n",
      "The dimension is: 3\n",
      "The shape is: (2, 3, 5)\n",
      "The size is: 30\n"
     ]
    }
   ],
   "source": [
    "numpy_info(a)"
   ]
  },
  {
   "cell_type": "code",
   "execution_count": 85,
   "metadata": {},
   "outputs": [
    {
     "name": "stdout",
     "output_type": "stream",
     "text": [
      "\n",
      "The dimension is: 3\n",
      "The shape is: (2, 3, 5)\n",
      "The size is: 30\n"
     ]
    }
   ],
   "source": [
    "numpy_info(c)"
   ]
  },
  {
   "cell_type": "code",
   "execution_count": 86,
   "metadata": {},
   "outputs": [
    {
     "name": "stdout",
     "output_type": "stream",
     "text": [
      "\n",
      "The dimension is: 2\n",
      "The shape is: (3, 5)\n",
      "The size is: 15\n"
     ]
    }
   ],
   "source": [
    "numpy_info(d)"
   ]
  },
  {
   "cell_type": "code",
   "execution_count": 88,
   "metadata": {},
   "outputs": [
    {
     "data": {
      "text/plain": [
       "array([[[1., 1., 1., 1., 1.],\n",
       "        [1., 1., 1., 1., 1.],\n",
       "        [1., 1., 1., 1., 1.]],\n",
       "\n",
       "       [[1., 1., 1., 1., 1.],\n",
       "        [1., 1., 1., 1., 1.],\n",
       "        [1., 1., 1., 1., 1.]]])"
      ]
     },
     "execution_count": 88,
     "metadata": {},
     "output_type": "execute_result"
    }
   ],
   "source": [
    "c"
   ]
  },
  {
   "cell_type": "code",
   "execution_count": 90,
   "metadata": {},
   "outputs": [
    {
     "name": "stdout",
     "output_type": "stream",
     "text": [
      "(3, 5)\n"
     ]
    }
   ],
   "source": [
    "print(d.shape)"
   ]
  },
  {
   "cell_type": "code",
   "execution_count": 91,
   "metadata": {},
   "outputs": [],
   "source": [
    "d = a + c"
   ]
  },
  {
   "cell_type": "code",
   "execution_count": 92,
   "metadata": {},
   "outputs": [
    {
     "data": {
      "text/plain": [
       "array([[[ 6.,  2.,  9.,  6.,  4.],\n",
       "        [ 5.,  4.,  5.,  3.,  9.],\n",
       "        [ 9.,  7.,  3.,  7.,  7.]],\n",
       "\n",
       "       [[ 5.,  8.,  8.,  2.,  4.],\n",
       "        [ 7., 10.,  5.,  9.,  9.],\n",
       "        [ 3.,  8.,  7.,  5.,  6.]]])"
      ]
     },
     "execution_count": 92,
     "metadata": {},
     "output_type": "execute_result"
    }
   ],
   "source": [
    "d"
   ]
  },
  {
   "cell_type": "code",
   "execution_count": null,
   "metadata": {},
   "outputs": [],
   "source": [
    "# La diferencia es que los valores de \"d\" son floats por la suma de a (int) + c(float)."
   ]
  },
  {
   "cell_type": "code",
   "execution_count": 93,
   "metadata": {},
   "outputs": [],
   "source": [
    "#12. Multiply a and c. Assign the result to e.\n",
    "\n",
    "e = a * c"
   ]
  },
  {
   "cell_type": "code",
   "execution_count": 94,
   "metadata": {},
   "outputs": [
    {
     "data": {
      "text/plain": [
       "array([[[5., 1., 8., 5., 3.],\n",
       "        [4., 3., 4., 2., 8.],\n",
       "        [8., 6., 2., 6., 6.]],\n",
       "\n",
       "       [[4., 7., 7., 1., 3.],\n",
       "        [6., 9., 4., 8., 8.],\n",
       "        [2., 7., 6., 4., 5.]]])"
      ]
     },
     "execution_count": 94,
     "metadata": {},
     "output_type": "execute_result"
    }
   ],
   "source": [
    "e"
   ]
  },
  {
   "cell_type": "code",
   "execution_count": 96,
   "metadata": {},
   "outputs": [
    {
     "data": {
      "text/plain": [
       "array([[[ True,  True,  True,  True,  True],\n",
       "        [ True,  True,  True,  True,  True],\n",
       "        [ True,  True,  True,  True,  True]],\n",
       "\n",
       "       [[ True,  True,  True,  True,  True],\n",
       "        [ True,  True,  True,  True,  True],\n",
       "        [ True,  True,  True,  True,  True]]])"
      ]
     },
     "execution_count": 96,
     "metadata": {},
     "output_type": "execute_result"
    }
   ],
   "source": [
    "#13. Does e equal to a? Why or why not?\n",
    "\n",
    "a == e"
   ]
  },
  {
   "cell_type": "code",
   "execution_count": 97,
   "metadata": {},
   "outputs": [
    {
     "data": {
      "text/plain": [
       "True"
      ]
     },
     "execution_count": 97,
     "metadata": {},
     "output_type": "execute_result"
    }
   ],
   "source": [
    "type(a) == type(c)"
   ]
  },
  {
   "cell_type": "code",
   "execution_count": null,
   "metadata": {},
   "outputs": [],
   "source": [
    "# No son exactamente iguales por tipo porque a es int y e es float, pero a nivel de resultado si lo son porque e es el resultado de multiplicar a por c que c es igual a 1."
   ]
  },
  {
   "cell_type": "code",
   "execution_count": 99,
   "metadata": {},
   "outputs": [],
   "source": [
    "#14. Identify the max, min, and mean values in d. Assign those values to variables \"d_max\", \"d_min\", and \"d_mean\"\n",
    "\n",
    "d_max = np.max(d)\n",
    "d_min = np.min(d)\n",
    "d_mean = np.mean(d)"
   ]
  },
  {
   "cell_type": "code",
   "execution_count": 100,
   "metadata": {},
   "outputs": [
    {
     "data": {
      "text/plain": [
       "10.0"
      ]
     },
     "execution_count": 100,
     "metadata": {},
     "output_type": "execute_result"
    }
   ],
   "source": [
    "d_max"
   ]
  },
  {
   "cell_type": "code",
   "execution_count": 101,
   "metadata": {},
   "outputs": [
    {
     "data": {
      "text/plain": [
       "2.0"
      ]
     },
     "execution_count": 101,
     "metadata": {},
     "output_type": "execute_result"
    }
   ],
   "source": [
    "d_min"
   ]
  },
  {
   "cell_type": "code",
   "execution_count": 102,
   "metadata": {},
   "outputs": [
    {
     "data": {
      "text/plain": [
       "6.066666666666666"
      ]
     },
     "execution_count": 102,
     "metadata": {},
     "output_type": "execute_result"
    }
   ],
   "source": [
    "d_mean"
   ]
  },
  {
   "cell_type": "code",
   "execution_count": 107,
   "metadata": {},
   "outputs": [],
   "source": [
    "#15. Now we want to label the values in d. First create an empty array \"f\" with the same shape (i.e. 2x3x5) as d using `np.empty`.\n",
    "\n",
    "f = np.empty((2,3,5))"
   ]
  },
  {
   "cell_type": "code",
   "execution_count": 108,
   "metadata": {},
   "outputs": [
    {
     "data": {
      "text/plain": [
       "array([[[5., 1., 8., 5., 3.],\n",
       "        [4., 3., 4., 2., 8.],\n",
       "        [8., 6., 2., 6., 6.]],\n",
       "\n",
       "       [[4., 7., 7., 1., 3.],\n",
       "        [6., 9., 4., 8., 8.],\n",
       "        [2., 7., 6., 4., 5.]]])"
      ]
     },
     "execution_count": 108,
     "metadata": {},
     "output_type": "execute_result"
    }
   ],
   "source": [
    "f"
   ]
  },
  {
   "cell_type": "code",
   "execution_count": 110,
   "metadata": {},
   "outputs": [],
   "source": [
    "#16. Populate the values in f. For each value in d, if it's larger than d_min but smaller than d_mean, assign 25 to the corresponding value in f.\n",
    "#If a value in d is larger than d_mean but smaller than d_max, assign 75 to the corresponding value in f.\n",
    "#If a value equals to d_mean, assign 50 to the corresponding value in f.\n",
    "#Assign 0 to the corresponding value(s) in f for d_min in d.\n",
    "#Assign 100 to the corresponding value(s) in f for d_max in d.\n",
    "#In the end, f should have only the following values: 0, 25, 50, 75, and 100.\n",
    "#Note: you don't have to use Numpy in this question."
   ]
  },
  {
   "cell_type": "code",
   "execution_count": 111,
   "metadata": {},
   "outputs": [
    {
     "data": {
      "text/plain": [
       "array([[[ 6.,  2.,  9.,  6.,  4.],\n",
       "        [ 5.,  4.,  5.,  3.,  9.],\n",
       "        [ 9.,  7.,  3.,  7.,  7.]],\n",
       "\n",
       "       [[ 5.,  8.,  8.,  2.,  4.],\n",
       "        [ 7., 10.,  5.,  9.,  9.],\n",
       "        [ 3.,  8.,  7.,  5.,  6.]]])"
      ]
     },
     "execution_count": 111,
     "metadata": {},
     "output_type": "execute_result"
    }
   ],
   "source": [
    "d"
   ]
  },
  {
   "cell_type": "code",
   "execution_count": 113,
   "metadata": {},
   "outputs": [],
   "source": [
    "mask = np.logical_and(d > d_min, d < d_mean)\n",
    "f[mask] = 25"
   ]
  },
  {
   "cell_type": "code",
   "execution_count": 114,
   "metadata": {},
   "outputs": [
    {
     "data": {
      "text/plain": [
       "array([[[25.,  1.,  8., 25., 25.],\n",
       "        [25., 25., 25., 25.,  8.],\n",
       "        [ 8.,  6., 25.,  6.,  6.]],\n",
       "\n",
       "       [[25.,  7.,  7.,  1., 25.],\n",
       "        [ 6.,  9., 25.,  8.,  8.],\n",
       "        [25.,  7.,  6., 25., 25.]]])"
      ]
     },
     "execution_count": 114,
     "metadata": {},
     "output_type": "execute_result"
    }
   ],
   "source": [
    "f"
   ]
  },
  {
   "cell_type": "code",
   "execution_count": 116,
   "metadata": {},
   "outputs": [],
   "source": [
    "#If a value in d is larger than d_mean but smaller than d_max, assign 75 to the corresponding value in f.\n",
    "mask = np.logical_and(d < d_max, d > d_mean)\n",
    "f[mask] = 75\n"
   ]
  },
  {
   "cell_type": "code",
   "execution_count": 117,
   "metadata": {},
   "outputs": [
    {
     "data": {
      "text/plain": [
       "array([[[25.,  1., 75., 25., 25.],\n",
       "        [25., 25., 25., 25., 75.],\n",
       "        [75., 75., 25., 75., 75.]],\n",
       "\n",
       "       [[25., 75., 75.,  1., 25.],\n",
       "        [75.,  9., 25., 75., 75.],\n",
       "        [25., 75., 75., 25., 25.]]])"
      ]
     },
     "execution_count": 117,
     "metadata": {},
     "output_type": "execute_result"
    }
   ],
   "source": [
    "f"
   ]
  },
  {
   "cell_type": "code",
   "execution_count": 126,
   "metadata": {},
   "outputs": [],
   "source": [
    "#If a value equals to d_mean, assign 50 to the corresponding value in f.\n",
    "mask = d == d_mean\n",
    "f[mask] = 50"
   ]
  },
  {
   "cell_type": "code",
   "execution_count": 127,
   "metadata": {},
   "outputs": [
    {
     "data": {
      "text/plain": [
       "array([[[25.,  0., 75., 25., 25.],\n",
       "        [25., 25., 25., 25., 75.],\n",
       "        [75., 75., 25., 75., 75.]],\n",
       "\n",
       "       [[25., 75., 75.,  0., 25.],\n",
       "        [75.,  9., 25., 75., 75.],\n",
       "        [25., 75., 75., 25., 25.]]])"
      ]
     },
     "execution_count": 127,
     "metadata": {},
     "output_type": "execute_result"
    }
   ],
   "source": [
    "f"
   ]
  },
  {
   "cell_type": "code",
   "execution_count": 128,
   "metadata": {},
   "outputs": [],
   "source": [
    "#Assign 0 to the corresponding value(s) in f for d_min in d.\n",
    "mask = d == d_min\n",
    "f[mask] = 0"
   ]
  },
  {
   "cell_type": "code",
   "execution_count": 125,
   "metadata": {},
   "outputs": [
    {
     "data": {
      "text/plain": [
       "array([[[25.,  0., 75., 25., 25.],\n",
       "        [25., 25., 25., 25., 75.],\n",
       "        [75., 75., 25., 75., 75.]],\n",
       "\n",
       "       [[25., 75., 75.,  0., 25.],\n",
       "        [75.,  9., 25., 75., 75.],\n",
       "        [25., 75., 75., 25., 25.]]])"
      ]
     },
     "execution_count": 125,
     "metadata": {},
     "output_type": "execute_result"
    }
   ],
   "source": [
    "f"
   ]
  },
  {
   "cell_type": "code",
   "execution_count": 129,
   "metadata": {},
   "outputs": [],
   "source": [
    "#Assign 100 to the corresponding value(s) in f for d_max in d.\n",
    "\n",
    "mask = d == d_max\n",
    "f[mask] = 100"
   ]
  },
  {
   "cell_type": "code",
   "execution_count": 130,
   "metadata": {},
   "outputs": [
    {
     "data": {
      "text/plain": [
       "array([[[ 25.,   0.,  75.,  25.,  25.],\n",
       "        [ 25.,  25.,  25.,  25.,  75.],\n",
       "        [ 75.,  75.,  25.,  75.,  75.]],\n",
       "\n",
       "       [[ 25.,  75.,  75.,   0.,  25.],\n",
       "        [ 75., 100.,  25.,  75.,  75.],\n",
       "        [ 25.,  75.,  75.,  25.,  25.]]])"
      ]
     },
     "execution_count": 130,
     "metadata": {},
     "output_type": "execute_result"
    }
   ],
   "source": [
    "f"
   ]
  },
  {
   "cell_type": "code",
   "execution_count": 132,
   "metadata": {},
   "outputs": [],
   "source": [
    "#In the end, f should have only the following values: 0, 25, 50, 75, and 100.\n",
    "\n",
    "# No tengo el 50. de la media"
   ]
  },
  {
   "cell_type": "code",
   "execution_count": 140,
   "metadata": {},
   "outputs": [],
   "source": [
    "#17. Print d and f. Do you have your expected f?\n",
    "#For instance, if your d is:\n",
    "#array([[[1.85836099, 1.67064465, 1.62576044, 1.40243961, 1.88454931],\n",
    "        #[1.75354326, 1.69403643, 1.36729252, 1.61415071, 1.12104981],\n",
    "       # [1.72201435, 1.1862918 , 1.87078449, 1.7726778 , 1.88180042]],\n",
    "\n",
    "       #[[1.44747908, 1.31673383, 1.02000951, 1.52218947, 1.97066381],\n",
    "        #[1.79129243, 1.74983003, 1.96028037, 1.85166831, 1.65450881],\n",
    "        #[1.18068344, 1.9587381 , 1.00656599, 1.93402165, 1.73514584]]])\n",
    "\n",
    "#Your f should be:\n",
    "#array([[[ 75.,  75.,  75.,  25.,  75.],\n",
    "        #[ 75.,  75.,  25.,  25.,  25.],\n",
    "        #[ 75.,  25.,  75.,  75.,  75.]],\n",
    "\n",
    "       #[[ 25.,  25.,  25.,  25., 100.],\n",
    "        #[ 75.,  75.,  75.,  75.,  75.],\n",
    "        #[ 25.,  75.,   0.,  75.,  75.]]])"
   ]
  },
  {
   "cell_type": "code",
   "execution_count": 134,
   "metadata": {},
   "outputs": [
    {
     "data": {
      "text/plain": [
       "array([[[ 6.,  2.,  9.,  6.,  4.],\n",
       "        [ 5.,  4.,  5.,  3.,  9.],\n",
       "        [ 9.,  7.,  3.,  7.,  7.]],\n",
       "\n",
       "       [[ 5.,  8.,  8.,  2.,  4.],\n",
       "        [ 7., 10.,  5.,  9.,  9.],\n",
       "        [ 3.,  8.,  7.,  5.,  6.]]])"
      ]
     },
     "execution_count": 134,
     "metadata": {},
     "output_type": "execute_result"
    }
   ],
   "source": [
    "d"
   ]
  },
  {
   "cell_type": "code",
   "execution_count": 135,
   "metadata": {},
   "outputs": [
    {
     "data": {
      "text/plain": [
       "array([[[ 25.,   0.,  75.,  25.,  25.],\n",
       "        [ 25.,  25.,  25.,  25.,  75.],\n",
       "        [ 75.,  75.,  25.,  75.,  75.]],\n",
       "\n",
       "       [[ 25.,  75.,  75.,   0.,  25.],\n",
       "        [ 75., 100.,  25.,  75.,  75.],\n",
       "        [ 25.,  75.,  75.,  25.,  25.]]])"
      ]
     },
     "execution_count": 135,
     "metadata": {},
     "output_type": "execute_result"
    }
   ],
   "source": [
    "f"
   ]
  },
  {
   "cell_type": "code",
   "execution_count": 136,
   "metadata": {},
   "outputs": [],
   "source": [
    "#Tengo de resultado otros valores pero entiendo que la mecanica del ejercicio esta bien, solo entender porque no me ha salido del 50 de la media."
   ]
  },
  {
   "cell_type": "code",
   "execution_count": 137,
   "metadata": {},
   "outputs": [],
   "source": [
    "#18. Bonus question: instead of using numbers (i.e. 0, 25, 50, 75, and 100), how to use string values \n",
    "#(\"A\", \"B\", \"C\", \"D\", and \"E\") to label the array elements? You are expecting the result to be:\n",
    "#array([[[ 'D',  'D',  'D',  'B',  'D'],\n",
    "        #[ 'D',  'D',  'B',  'B',  'B'],\n",
    "        #[ 'D',  'B',  'D',  'D',  'D']],\n",
    "\n",
    "       #[[ 'B',  'B',  'B',  'B',  'E'],\n",
    "        #[ 'D',  'D',  'D',  'D',  'D'],\n",
    "        #[ 'B',  'D',   'A',  'D', 'D']]])\n",
    "#Again, you don't need Numpy in this question."
   ]
  },
  {
   "cell_type": "code",
   "execution_count": 142,
   "metadata": {},
   "outputs": [
    {
     "name": "stdout",
     "output_type": "stream",
     "text": [
      "[[['B' 'A' 'D' 'B' 'B']\n",
      "  ['B' 'B' 'B' 'B' 'D']\n",
      "  ['D' 'D' 'B' 'D' 'D']]\n",
      "\n",
      " [['B' 'D' 'D' 'A' 'B']\n",
      "  ['D' 'E' 'B' 'D' 'D']\n",
      "  ['B' 'D' 'D' 'B' 'B']]]\n"
     ]
    }
   ],
   "source": [
    "# Definir un diccionario de mapeo\n",
    "mapping_dict = {0.: \"A\", 25.: \"B\", 50.: \"C\", 75.: \"D\", 100.: \"E\"}\n",
    "\n",
    "# Crear un array de strings utilizando el mapeo\n",
    "g = np.vectorize(mapping_dict.get)(f)\n",
    "\n",
    "print(g)"
   ]
  }
 ],
 "metadata": {
  "kernelspec": {
   "display_name": "Ironhack",
   "language": "python",
   "name": "python3"
  },
  "language_info": {
   "codemirror_mode": {
    "name": "ipython",
    "version": 3
   },
   "file_extension": ".py",
   "mimetype": "text/x-python",
   "name": "python",
   "nbconvert_exporter": "python",
   "pygments_lexer": "ipython3",
   "version": "3.11.7"
  }
 },
 "nbformat": 4,
 "nbformat_minor": 2
}
